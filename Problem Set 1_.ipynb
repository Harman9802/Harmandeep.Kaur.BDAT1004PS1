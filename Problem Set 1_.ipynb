{
 "cells": [
  {
   "cell_type": "markdown",
   "id": "a89a33d2",
   "metadata": {},
   "source": [
    "# Problem set 1"
   ]
  },
  {
   "cell_type": "markdown",
   "id": "b8d9aa71",
   "metadata": {},
   "source": [
    "Question 1"
   ]
  },
  {
   "cell_type": "code",
   "execution_count": 1,
   "id": "7fbf9ab7",
   "metadata": {},
   "outputs": [
    {
     "name": "stdout",
     "output_type": "stream",
     "text": [
      "<class 'int'>\n"
     ]
    }
   ],
   "source": [
    "print(type(5))"
   ]
  },
  {
   "cell_type": "code",
   "execution_count": 2,
   "id": "c11ed061",
   "metadata": {},
   "outputs": [
    {
     "name": "stdout",
     "output_type": "stream",
     "text": [
      "<class 'float'>\n"
     ]
    }
   ],
   "source": [
    "print(type(5.0))"
   ]
  },
  {
   "cell_type": "code",
   "execution_count": 3,
   "id": "cf0a6651",
   "metadata": {},
   "outputs": [
    {
     "name": "stdout",
     "output_type": "stream",
     "text": [
      "<class 'bool'>\n"
     ]
    }
   ],
   "source": [
    "print(type(5>1))"
   ]
  },
  {
   "cell_type": "code",
   "execution_count": 4,
   "id": "eab63ad8",
   "metadata": {},
   "outputs": [
    {
     "name": "stdout",
     "output_type": "stream",
     "text": [
      "<class 'bool'>\n"
     ]
    }
   ],
   "source": [
    "print(type(5>1))"
   ]
  },
  {
   "cell_type": "code",
   "execution_count": 5,
   "id": "feb21a7c",
   "metadata": {},
   "outputs": [
    {
     "name": "stdout",
     "output_type": "stream",
     "text": [
      "<class 'int'>\n"
     ]
    }
   ],
   "source": [
    "print(type(5*2))"
   ]
  },
  {
   "cell_type": "code",
   "execution_count": 6,
   "id": "9b12305e",
   "metadata": {},
   "outputs": [
    {
     "name": "stdout",
     "output_type": "stream",
     "text": [
      "<class 'str'>\n"
     ]
    }
   ],
   "source": [
    "print(type('5'*2))"
   ]
  },
  {
   "cell_type": "code",
   "execution_count": 7,
   "id": "0b1c2914",
   "metadata": {},
   "outputs": [
    {
     "name": "stdout",
     "output_type": "stream",
     "text": [
      "<class 'str'>\n"
     ]
    }
   ],
   "source": [
    "print(type('5'+'2'))"
   ]
  },
  {
   "cell_type": "code",
   "execution_count": 8,
   "id": "c63b08fe",
   "metadata": {},
   "outputs": [
    {
     "name": "stdout",
     "output_type": "stream",
     "text": [
      "<class 'float'>\n"
     ]
    }
   ],
   "source": [
    "print(type(5/2))"
   ]
  },
  {
   "cell_type": "code",
   "execution_count": 9,
   "id": "f8163b4b",
   "metadata": {},
   "outputs": [
    {
     "name": "stdout",
     "output_type": "stream",
     "text": [
      "<class 'int'>\n"
     ]
    }
   ],
   "source": [
    "print(type(5%2))"
   ]
  },
  {
   "cell_type": "code",
   "execution_count": 10,
   "id": "c85552ac",
   "metadata": {},
   "outputs": [
    {
     "name": "stdout",
     "output_type": "stream",
     "text": [
      "<class 'set'>\n"
     ]
    }
   ],
   "source": [
    "print(type({5,2,1}))"
   ]
  },
  {
   "cell_type": "code",
   "execution_count": 11,
   "id": "0f17590b",
   "metadata": {},
   "outputs": [
    {
     "name": "stdout",
     "output_type": "stream",
     "text": [
      "<class 'bool'>\n"
     ]
    }
   ],
   "source": [
    "print(type(5==3))"
   ]
  },
  {
   "cell_type": "code",
   "execution_count": 12,
   "id": "82dd3e56",
   "metadata": {},
   "outputs": [
    {
     "name": "stdout",
     "output_type": "stream",
     "text": [
      "<class 'float'>\n"
     ]
    }
   ],
   "source": [
    "import math\n",
    "print(type(math.pi))"
   ]
  },
  {
   "cell_type": "markdown",
   "id": "b7ebbe31",
   "metadata": {},
   "source": [
    "Question 2"
   ]
  },
  {
   "cell_type": "markdown",
   "id": "6eacc272",
   "metadata": {},
   "source": [
    "a"
   ]
  },
  {
   "cell_type": "code",
   "execution_count": 13,
   "id": "9f2ee351",
   "metadata": {},
   "outputs": [
    {
     "name": "stdout",
     "output_type": "stream",
     "text": [
      "34\n"
     ]
    }
   ],
   "source": [
    "s='Supercalifragilisticexpialidocious'\n",
    "print(len(s))"
   ]
  },
  {
   "cell_type": "markdown",
   "id": "26d7b65f",
   "metadata": {},
   "source": [
    "b"
   ]
  },
  {
   "cell_type": "code",
   "execution_count": 14,
   "id": "17d4b905",
   "metadata": {},
   "outputs": [
    {
     "name": "stdout",
     "output_type": "stream",
     "text": [
      "True\n"
     ]
    }
   ],
   "source": [
    "s='Supercalifragilisticexpialidocious'\n",
    "print(s.__contains__('ice'))"
   ]
  },
  {
   "cell_type": "markdown",
   "id": "8c2acad1",
   "metadata": {},
   "source": [
    "c"
   ]
  },
  {
   "cell_type": "code",
   "execution_count": 15,
   "id": "209bb003",
   "metadata": {},
   "outputs": [
    {
     "name": "stdout",
     "output_type": "stream",
     "text": [
      "Supercalifragilisticexpialidocious\n"
     ]
    }
   ],
   "source": [
    "s=(\"Supercalifragilisticexpialidocious\", \"Honorificabilitudinitatibus\",\"Bababadalgharaghtakamminarronnkonn\")\n",
    "maxnumber=max(s)\n",
    "print(maxnumber)"
   ]
  },
  {
   "cell_type": "markdown",
   "id": "53d4e203",
   "metadata": {},
   "source": [
    "d"
   ]
  },
  {
   "cell_type": "code",
   "execution_count": 16,
   "id": "d8c5bd1f",
   "metadata": {},
   "outputs": [
    {
     "name": "stdout",
     "output_type": "stream",
     "text": [
      "['Bartok', 'Bellini', 'Berlioz', 'Bernstein', 'Borodin', 'Brian', 'Buxtehude']\n"
     ]
    }
   ],
   "source": [
    "composers=['Berlioz', 'Borodin', 'Brian', 'Bartok', 'Bellini', 'Buxtehude', 'Bernstein']\n",
    "composers.sort()\n",
    "print(composers)"
   ]
  },
  {
   "cell_type": "markdown",
   "id": "2b2a6756",
   "metadata": {},
   "source": [
    "Question 3"
   ]
  },
  {
   "cell_type": "code",
   "execution_count": 17,
   "id": "58d15fea",
   "metadata": {},
   "outputs": [
    {
     "name": "stdout",
     "output_type": "stream",
     "text": [
      "Enter first side: 2\n",
      "Enter second side: 2\n",
      "Enter third side: 2\n",
      "Area of triangle =  1.7320508075688772\n"
     ]
    }
   ],
   "source": [
    "a = int(input('Enter first side: '))\n",
    "b = int(input('Enter second side: '))\n",
    "c = int(input('Enter third side: '))\n",
    "s = (a+b+c)/2\n",
    "area = (s*(s-a)*(s-b)*(s-c))**0.5\n",
    "print('Area of triangle = ',area)"
   ]
  },
  {
   "cell_type": "markdown",
   "id": "036d9461",
   "metadata": {},
   "source": [
    "Question 4"
   ]
  },
  {
   "cell_type": "code",
   "execution_count": 18,
   "id": "2bcda06f",
   "metadata": {},
   "outputs": [
    {
     "name": "stdout",
     "output_type": "stream",
     "text": [
      "Enter number of elements:5\n",
      "Enter element:25\n",
      "Enter element:47\n",
      "Enter element:42\n",
      "Enter element:56\n",
      "Enter element:32\n",
      "The even list [42, 56, 32]\n",
      "The odd list [25, 47]\n"
     ]
    }
   ],
   "source": [
    "a=[]\n",
    "n=int(input(\"Enter number of elements:\"))\n",
    "for i in range(1,n+1):\n",
    "    b=int(input(\"Enter element:\"))\n",
    "    a.append(b)\n",
    "even=[]\n",
    "odd=[]\n",
    "for j in a:\n",
    "    if(j%2==0):\n",
    "        even.append(j)\n",
    "    else:\n",
    "        odd.append(j)\n",
    "print(\"The even list\",even)\n",
    "print(\"The odd list\",odd)"
   ]
  },
  {
   "cell_type": "markdown",
   "id": "6ebc659d",
   "metadata": {},
   "source": [
    "Question 5"
   ]
  },
  {
   "cell_type": "markdown",
   "id": "08c93523",
   "metadata": {},
   "source": [
    "a"
   ]
  },
  {
   "cell_type": "code",
   "execution_count": 19,
   "id": "23f86604",
   "metadata": {},
   "outputs": [
    {
     "name": "stdout",
     "output_type": "stream",
     "text": [
      "True\n",
      "False\n"
     ]
    }
   ],
   "source": [
    "def inside(x,y,x1,y1,x2,y2):\n",
    "    if (x >=x1 and x <=x2 and y >=y1 and y <=y2):\n",
    "        return True\n",
    "    elif(x >=x2 and x <=x1 and y >=y2 and y <=y1):\n",
    "        return True\n",
    "    else:\n",
    "        return False\n",
    "    \n",
    "print(inside(1,1,0,0,2,3))\n",
    "print(inside(-1,-1,0,0,2,3))"
   ]
  },
  {
   "cell_type": "markdown",
   "id": "acdb325f",
   "metadata": {},
   "source": [
    "b"
   ]
  },
  {
   "cell_type": "code",
   "execution_count": 20,
   "id": "47a2ce14",
   "metadata": {},
   "outputs": [
    {
     "name": "stdout",
     "output_type": "stream",
     "text": [
      "False\n"
     ]
    }
   ],
   "source": [
    "def inside(x,y,x1,y1,x2,y2):\n",
    "    if (x >=x1 and x <=x2 and y >=y1 and y <=y2):\n",
    "        return True\n",
    "    elif(x >=x2 and x <=x1 and y >=y2 and y <=y1):\n",
    "        return True\n",
    "    else:\n",
    "        return False\n",
    "    \n",
    "print(inside(1,1,0.3,0.5,1.1,0.7)and inside(1,1,0.5,0.2,1.1,2))"
   ]
  },
  {
   "cell_type": "markdown",
   "id": "a8e1b43f",
   "metadata": {},
   "source": [
    "Question 6"
   ]
  },
  {
   "cell_type": "code",
   "execution_count": 21,
   "id": "eb1248d2",
   "metadata": {},
   "outputs": [
    {
     "name": "stdout",
     "output_type": "stream",
     "text": [
      "appyhay\n",
      "enterway\n"
     ]
    }
   ],
   "source": [
    "def pig (word):\n",
    "    vowels_list = \"aeiou\"\n",
    "    if word[0] in vowels_list:\n",
    "        return word + \"way\"\n",
    "    else:\n",
    "        return word[1:] + word[0] + \"ay\"\n",
    "    \n",
    "print(pig('happy'))\n",
    "print(pig('enter'))"
   ]
  },
  {
   "cell_type": "markdown",
   "id": "aface8eb",
   "metadata": {},
   "source": [
    "Question 7"
   ]
  },
  {
   "cell_type": "code",
   "execution_count": 23,
   "id": "ea41d794",
   "metadata": {},
   "outputs": [
    {
     "name": "stdout",
     "output_type": "stream",
     "text": [
      "There are 27 patients of blood type A.\n",
      "There are 14 patients of blood type B.\n",
      "There are 13 patients of blood type AB.\n",
      "There are 15 patients of blood type O.\n",
      "There are no patients of blood type OO.\n"
     ]
    }
   ],
   "source": [
    "def bldCount(bloodfile_1):\n",
    "    p = open(bloodfile_1,\"r\")\n",
    "    fun=p.read()\n",
    "    A=int(fun.count(' A' ))\n",
    "    B=int(fun.count('B'))\n",
    "    AB=int(fun.count('AB'))\n",
    "    O=int(fun.count('O'))\n",
    "    OO=int(fun.count('OO'))\n",
    "    \n",
    "    if(A==0):\n",
    "        print('There are no patients of blood type A.')\n",
    "    elif(A==1):\n",
    "        print('There is one patient of blood type A.')\n",
    "    else:\n",
    "        print('There are {} patients of blood type A.'.format(A))\n",
    "        \n",
    "    if(B==0):\n",
    "        print('There are no patients of blood type B.')\n",
    "    elif(B==1):\n",
    "        print('There is one patient of blood type B.')\n",
    "    else:\n",
    "        print('There are {} patients of blood type B.'.format(B))\n",
    "        \n",
    "    if(AB==0):\n",
    "        print('There are no patients of blood type AB.')\n",
    "    elif(AB==1):\n",
    "        print('There is one patient of blood type AB.')\n",
    "    else:\n",
    "        print('There are {} patients of blood type AB.'.format(AB))\n",
    "        \n",
    "    if(O==0):\n",
    "        print('There are no patients of blood type O.')\n",
    "    elif(O==1):\n",
    "        print('There is one patient of blood type O.')\n",
    "    else:\n",
    "        print('There are {} patients of blood type O.'.format(O))\n",
    "        \n",
    "    if(OO==0):\n",
    "        print('There are no patients of blood type OO.')\n",
    "    elif(OO==1):\n",
    "        print('There is one patient of blood type OO.')\n",
    "    else:\n",
    "        print('There are {} patients of blood type OO.'.format(OO))\n",
    "            \n",
    "bldCount('bloodtype1.txt')"
   ]
  },
  {
   "cell_type": "markdown",
   "id": "3341d51e",
   "metadata": {},
   "source": [
    "Question 9"
   ]
  },
  {
   "cell_type": "raw",
   "id": "4d5468e3",
   "metadata": {},
   "source": [
    "Trying to add incompatible variables, as in adding 6 + ‘a’\n",
    "\n",
    "error = \"invalid character\""
   ]
  },
  {
   "cell_type": "raw",
   "id": "53ddccf6",
   "metadata": {},
   "source": [
    "Referring to the 12th item of a list that has only 10 items\n",
    "\n",
    "error = \"list index out of range\""
   ]
  },
  {
   "cell_type": "raw",
   "id": "cde38b5f",
   "metadata": {},
   "source": [
    "Using a value that is out of range for a function’s input, such as calling math.sqrt(-1.0)\n",
    "\n",
    "error = \"ValueError exception\""
   ]
  },
  {
   "cell_type": "raw",
   "id": "20364206",
   "metadata": {},
   "source": [
    "Using an undeclared variable, such as print(x) when x has not been defined \n",
    "\n",
    "error = 'x' is not defined"
   ]
  },
  {
   "cell_type": "raw",
   "id": "2cf22ca8",
   "metadata": {},
   "source": [
    "Trying to open a file that does not exist, such as mistyping the file name or looking in the wrong directory. \n",
    "\n",
    "error = No such file or directory found"
   ]
  },
  {
   "cell_type": "markdown",
   "id": "b2de6442",
   "metadata": {},
   "source": [
    "Question 10"
   ]
  },
  {
   "cell_type": "code",
   "execution_count": 25,
   "id": "e0483d53",
   "metadata": {},
   "outputs": [
    {
     "name": "stdout",
     "output_type": "stream",
     "text": [
      "count{'a': 1, 'p': 2, 'l': 1, 'e': 1}\n"
     ]
    }
   ],
   "source": [
    "test_str = \"apple\"\n",
    "all_freq = {}\n",
    "for i in test_str:\n",
    "    if i in all_freq:\n",
    "        all_freq[i] +=1\n",
    "    else:\n",
    "        all_freq[i] = 1\n",
    "print(\"count\"+str(all_freq))"
   ]
  }
 ],
 "metadata": {
  "kernelspec": {
   "display_name": "Python 3 (ipykernel)",
   "language": "python",
   "name": "python3"
  },
  "language_info": {
   "codemirror_mode": {
    "name": "ipython",
    "version": 3
   },
   "file_extension": ".py",
   "mimetype": "text/x-python",
   "name": "python",
   "nbconvert_exporter": "python",
   "pygments_lexer": "ipython3",
   "version": "3.9.13"
  }
 },
 "nbformat": 4,
 "nbformat_minor": 5
}
